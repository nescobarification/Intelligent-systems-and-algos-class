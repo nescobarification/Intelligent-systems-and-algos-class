{
 "cells": [
  {
   "cell_type": "markdown",
   "metadata": {},
   "source": [
    "# Setup\n",
    "\n",
    "Affichage des règles de la grammaire."
   ]
  },
  {
   "cell_type": "code",
   "execution_count": 1,
   "metadata": {},
   "outputs": [
    {
     "name": "stdout",
     "output_type": "stream",
     "text": [
      "%start S\n",
      "S -> NP[AGR=?n] VP[AGR=?n]\n",
      "NP[AGR=?n] -> N[AGR=?n]\n",
      "VP[TENSE=?t, AGR=?n] -> V[TENSE=?t, AGR=?n] Adj\n",
      "N[AGR=[NUM=sg, PER=3], REF=<Clervens>] -> 'Clervens'\n",
      "N[AGR=[NUM=sg, PER=3], REF=<Nelson>] -> 'Nelson'\n",
      "N[AGR=[NUM=sg, PER=3], REF=<Kim>] -> 'Kim'\n",
      "N[AGR=[NUM=sg, PER=3], REF=<Hugo>] -> 'Hugo'\n",
      "N[AGR=[NUM=sg, PER=3], REF=<Sylvain>] -> 'Sylvain'\n",
      "V[TENSE=pres,  AGR=[NUM=sg, PER=3], REF=''] -> 'est'\n",
      "Adj[REF=\"a l'émotion faché\"] -> 'faché'\n",
      "Adj[REF=\"a l'émotion heureux\"] -> 'heureux'\n",
      "Adj[REF=\"a l'émotion méchant\"] -> 'méchant'\n"
     ]
    }
   ],
   "source": [
    "import nltk\n",
    "nltk.data.show_cfg('../grammaire.fcfg')"
   ]
  },
  {
   "cell_type": "markdown",
   "metadata": {},
   "source": [
    "Chargement de la grammaire"
   ]
  },
  {
   "cell_type": "code",
   "execution_count": 2,
   "metadata": {},
   "outputs": [],
   "source": [
    "from nltk import load_parser\n",
    "\n",
    "cp = load_parser('../grammaire.fcfg', trace=0)"
   ]
  },
  {
   "cell_type": "markdown",
   "metadata": {},
   "source": [
    "Analyse d'une phase avec l'analyse généré à partir de notre grammaire"
   ]
  },
  {
   "cell_type": "code",
   "execution_count": 3,
   "metadata": {},
   "outputs": [
    {
     "name": "stdout",
     "output_type": "stream",
     "text": [
      "(S[]\n",
      "  (NP[AGR=[NUM='sg', PER=3]]\n",
      "    (N[AGR=[NUM='sg', PER=3], REF=<Clervens>] Clervens))\n",
      "  (VP[AGR=[NUM='sg', PER=3], TENSE='pres']\n",
      "    (V[AGR=[NUM='sg', PER=3], REF='', TENSE='pres'] est)\n",
      "    (Adj[REF=\"a l'\\xc3\\xa9motion fach\\xc3\\xa9\"] fache)))\n",
      "Is grammar ambiguous : False\n"
     ]
    }
   ],
   "source": [
    "def test_cp(cp, sentence):\n",
    "    tokens = sentence.split()\n",
    "    trees = list(cp.parse(tokens))\n",
    "\n",
    "    for tree in trees:\n",
    "        print(tree)\n",
    "    print(\"Is grammar ambiguous : {0}\".format(len(trees) > 1))\n",
    "test_cp(cp, u\"Clervens est faché\")"
   ]
  },
  {
   "cell_type": "markdown",
   "metadata": {},
   "source": [
    "Exemple de génération de fact JESS"
   ]
  },
  {
   "cell_type": "code",
   "execution_count": 4,
   "metadata": {},
   "outputs": [
    {
     "name": "stdout",
     "output_type": "stream",
     "text": [
      "( Clervens a l'émotion faché )\n",
      "( Nelson a l'émotion méchant )\n",
      "( Sylvain a l'émotion heureux )\n"
     ]
    }
   ],
   "source": [
    "def get_fact_from_sentences(cp, sentences):\n",
    "    for i in range(len(sentences)):\n",
    "        tokens = sentences[i].split()\n",
    "        trees = list(cp.parse(tokens))\n",
    "        fact = \"(\"\n",
    "        for tree in trees:\n",
    "            for nodes in tree:\n",
    "                for answer in nodes:\n",
    "                    ref = str(answer.label()[\"REF\"]).strip()\n",
    "                    if ref:\n",
    "                        fact += \" \" + ref\n",
    "        fact += \" )\"\n",
    "        print(fact)\n",
    "\n",
    "get_fact_from_sentences(cp, [u\"Clervens est faché\", u\"Nelson est méchant\", u\"Sylvain est heureux\"])"
   ]
  },
  {
   "cell_type": "code",
   "execution_count": null,
   "metadata": {
    "collapsed": true
   },
   "outputs": [],
   "source": []
  }
 ],
 "metadata": {
  "kernelspec": {
   "display_name": "Python 2",
   "language": "python",
   "name": "python2"
  },
  "language_info": {
   "codemirror_mode": {
    "name": "ipython",
    "version": 2
   },
   "file_extension": ".py",
   "mimetype": "text/x-python",
   "name": "python",
   "nbconvert_exporter": "python",
   "pygments_lexer": "ipython2",
   "version": "2.7.10"
  }
 },
 "nbformat": 4,
 "nbformat_minor": 2
}
